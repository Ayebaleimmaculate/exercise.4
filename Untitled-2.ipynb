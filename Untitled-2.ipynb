{
 "cells": [
  {
   "cell_type": "code",
   "execution_count": 14,
   "metadata": {},
   "outputs": [],
   "source": [
    "student_names=(\"Adokorac Nancy\",\"Amutuhaire Faith Ahabwe\",\"KWAGALA JOANNA VICTO\",\"mahoro cathy\",\"Mbabazi Hawa Bint Edrisa\",\"Nakanjako josephine\",\"Nanteza Dorcus\",\"Mbabazi Angel\",\"Namara Racheal\",\"Lwamulungi Sheillah\",\"Nakawuka Sandra\",\"Achola Gloria Fortunate\",\"Nagawa Esther\",\"wanjiku hananny\",\"babirye Sandra\",\"nakagga shanitah\",\"Wembabazi Vivian Ritah\",\"Nanziri Ritah Namayanja\",\"Nasejje Mariam\",\"Namukose Jolline Edriana\",\"Agatha Faith Anyango\",\"Kirabo Sarah\",\"Nansalire Anitah\",\"Nalugo gladys\",\"Namakula Allen\",\"Tukahirwa emily\",\"Shamirah Ahmed\",\"Ameso lmmaculate\",\"Ayoo Teddy\",\"Biira Mary\",\"Aloyo Brenda Ojera\",\"Ayebale Immaculate\")"
   ]
  },
  {
   "cell_type": "code",
   "execution_count": 15,
   "metadata": {},
   "outputs": [],
   "source": [
    "student_age= (20,27,21,23,19,24,21,19,19,22,25,27,21,19,21,21,20,23,20,20,27,23,21,19,20,22,21,23,20,30,23,24,)"
   ]
  },
  {
   "cell_type": "code",
   "execution_count": 16,
   "metadata": {},
   "outputs": [],
   "source": [
    "student_weight=(74,47,54,30,59,65,69,57,55,78,60,80,58,50, 50, 50,49,70,62,55,60,45,70,55,67,67,64,50,65,52,54,30,59,65,69,57,55,78,60,80,58,50,50,50,49,70,62,55,55,60,45,70,55,67,67,64,50,65,52,50)"
   ]
  },
  {
   "cell_type": "code",
   "execution_count": 17,
   "metadata": {},
   "outputs": [],
   "source": [
    "student_height=(177.8,157.48,185.42,185.42,175.26,175.26,157.48,167.64,154.94,162.56,175.26,172.72,188.42,165.1,175.26,175.26,160.02,162.56,101.6,162.56,93.98,165.1,63.5,101.6,170.18,175.26,137.16,165.1,157.48,104.14,170.18,162.56)"
   ]
  },
  {
   "cell_type": "code",
   "execution_count": 19,
   "metadata": {},
   "outputs": [],
   "source": [
    "import numpy as np"
   ]
  },
  {
   "cell_type": "code",
   "execution_count": 21,
   "metadata": {},
   "outputs": [
    {
     "name": "stdout",
     "output_type": "stream",
     "text": [
      "22.03125\n"
     ]
    }
   ],
   "source": [
    "mean_age= np.mean(student_age)\n",
    "print(mean_age)"
   ]
  },
  {
   "cell_type": "code",
   "execution_count": 23,
   "metadata": {},
   "outputs": [
    {
     "name": "stdout",
     "output_type": "stream",
     "text": [
      "58.63333333333333\n"
     ]
    }
   ],
   "source": [
    "mean_weight=np.mean(student_weight)\n",
    "print(mean_weight)"
   ]
  },
  {
   "cell_type": "code",
   "execution_count": 25,
   "metadata": {},
   "outputs": [
    {
     "name": "stdout",
     "output_type": "stream",
     "text": [
      "156.383125\n"
     ]
    }
   ],
   "source": [
    "mean_height= np.mean(student_height)\n",
    "print(mean_height)"
   ]
  },
  {
   "cell_type": "code",
   "execution_count": 26,
   "metadata": {},
   "outputs": [
    {
     "name": "stdout",
     "output_type": "stream",
     "text": [
      "2.721263206215084\n"
     ]
    }
   ],
   "source": [
    "standard_deviation_age= np.std(student_age)\n",
    "print(standard_deviation_age)"
   ]
  },
  {
   "cell_type": "code",
   "execution_count": 11,
   "metadata": {},
   "outputs": [
    {
     "name": "stdout",
     "output_type": "stream",
     "text": [
      "10.323059408700288\n"
     ]
    }
   ],
   "source": [
    "standard_deviation_weight= np.std(student_weight)\n",
    "print(standard_deviation_weight)"
   ]
  },
  {
   "cell_type": "code",
   "execution_count": 9,
   "metadata": {},
   "outputs": [
    {
     "name": "stdout",
     "output_type": "stream",
     "text": [
      "29.63624559107268\n"
     ]
    }
   ],
   "source": [
    "standard_deviation_height=np.std(student_height)\n",
    "print(standard_deviation_height)"
   ]
  },
  {
   "cell_type": "code",
   "execution_count": 27,
   "metadata": {},
   "outputs": [
    {
     "name": "stdout",
     "output_type": "stream",
     "text": [
      "7.4052734375\n"
     ]
    }
   ],
   "source": [
    "variance_age=np.var(student_age)\n",
    "print(variance_age)"
   ]
  },
  {
   "cell_type": "code",
   "execution_count": 32,
   "metadata": {},
   "outputs": [
    {
     "name": "stdout",
     "output_type": "stream",
     "text": [
      "106.56555555555556\n"
     ]
    }
   ],
   "source": [
    "variance_weight= np.var(student_weight)\n",
    "print(variance_weight)"
   ]
  },
  {
   "cell_type": "code",
   "execution_count": 29,
   "metadata": {},
   "outputs": [
    {
     "name": "stdout",
     "output_type": "stream",
     "text": [
      "878.3070527343749\n"
     ]
    }
   ],
   "source": [
    "variance_height= np.var(student_height)\n",
    "print(variance_height)"
   ]
  }
 ],
 "metadata": {
  "kernelspec": {
   "display_name": "Python 3",
   "language": "python",
   "name": "python3"
  },
  "language_info": {
   "codemirror_mode": {
    "name": "ipython",
    "version": 3
   },
   "file_extension": ".py",
   "mimetype": "text/x-python",
   "name": "python",
   "nbconvert_exporter": "python",
   "pygments_lexer": "ipython3",
   "version": "3.11.4"
  },
  "orig_nbformat": 4
 },
 "nbformat": 4,
 "nbformat_minor": 2
}
